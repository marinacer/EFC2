{
 "cells": [
  {
   "cell_type": "markdown",
   "metadata": {},
   "source": [
    "# EFC2\n",
    "Exercícios de fixação em classificação binária e multiclasse"
   ]
  },
  {
   "cell_type": "markdown",
   "metadata": {},
   "source": [
    "# Atividade 1\n",
    "\n",
    "Regressão Logística Binária para o conjunto de dados de voz divido em gêneros masculino e feminino."
   ]
  },
  {
   "cell_type": "code",
   "execution_count": 1,
   "metadata": {},
   "outputs": [],
   "source": [
    "import pandas as pd\n",
    "import numpy as np\n",
    "from numpy import genfromtxt\n",
    "import matplotlib.pyplot as plt\n",
    "\n",
    "import seaborn as sns\n",
    "import sklearn.metrics as sk\n",
    "from sklearn.linear_model import LogisticRegression\n",
    "from sklearn.model_selection import train_test_split\n",
    "from sklearn.metrics import roc_auc_score\n",
    "from sklearn.metrics import roc_curve"
   ]
  },
  {
   "cell_type": "code",
   "execution_count": 4,
   "metadata": {},
   "outputs": [],
   "source": [
    "# função para o cálculo do RMSE\n",
    "def rmse(y, yhat):\n",
    "    return np.sqrt( np.power(y - yhat, 2).mean() )"
   ]
  },
  {
   "cell_type": "code",
   "execution_count": 2,
   "metadata": {},
   "outputs": [],
   "source": [
    "dados = genfromtxt('dados_voz_genero.csv', delimiter=',')"
   ]
  },
  {
   "cell_type": "code",
   "execution_count": 3,
   "metadata": {},
   "outputs": [
    {
     "name": "stdout",
     "output_type": "stream",
     "text": [
      "[[0.06424127 0.03202691 0.01507149 ... 0.         0.         1.        ]\n",
      " [0.06731003 0.04022874 0.01941387 ... 0.046875   0.05263158 1.        ]\n",
      " [0.08382942 0.03671846 0.00870106 ... 0.0078125  0.04651163 1.        ]\n",
      " ...\n",
      " [0.09579843 0.18373124 0.03342387 ... 2.9296875  0.19475862 0.        ]\n",
      " [0.09062826 0.18497617 0.0435081  ... 3.5859375  0.31100218 0.        ]\n",
      " [0.09288354 0.18304392 0.0700715  ... 0.546875   0.35       0.        ]]\n"
     ]
    }
   ],
   "source": [
    "dados = dados[1:,:] #remove cabeçalho\n",
    "print(dados)"
   ]
  },
  {
   "cell_type": "code",
   "execution_count": 16,
   "metadata": {},
   "outputs": [],
   "source": [
    "# cria as matrizes X e y sendo 20% dos dados para teste e o restante para treino\n",
    "X = dados[:,:-1] #remove a última coluna de 0 e 1's\n",
    "y = dados[:,-1:] #seleciona somente a última coluna\n",
    "y = y.ravel()\n",
    "\n",
    "Xtrain, Xtest, ytrain, ytest = train_test_split(X, y, test_size = 0.2, random_state = 0)"
   ]
  },
  {
   "cell_type": "markdown",
   "metadata": {},
   "source": [
    "# Normalização\n",
    "Pré processamento dos dados por meio da normalização"
   ]
  },
  {
   "cell_type": "code",
   "execution_count": 17,
   "metadata": {},
   "outputs": [],
   "source": [
    "Xtrain_norm = Xtrain\n",
    "Xtest_norm = Xtest\n",
    "nstd = 4\n",
    "for i in range(0,len(Xtrain[0,:])):\n",
    "    Xtrain_norm[:,i] = (Xtrain[:,i] - Xtrain[:,i].mean())/(nstd*Xtrain[:,i].std())\n",
    "    Xtest_norm[:,i] = (Xtest[:,i] - Xtest[:,i].mean())/(nstd*Xtest[:,i].std())"
   ]
  },
  {
   "cell_type": "code",
   "execution_count": 19,
   "metadata": {},
   "outputs": [
    {
     "data": {
      "text/plain": [
       "([array([  0.,   0.,   0.,  85., 257., 251.,  38.,   3.,   0.,   0.]),\n",
       "  array([  0.,   1.,  13.,  58., 236., 319.,   7.,   0.,   0.,   0.]),\n",
       "  array([  0.,   0.,   7.,  57., 289., 256.,  25.,   0.,   0.,   0.]),\n",
       "  array([  1.,   1.,   8.,  37., 284., 295.,   8.,   0.,   0.,   0.]),\n",
       "  array([  0.,   0.,   0.,  65., 231., 307.,  27.,   4.,   0.,   0.]),\n",
       "  array([  0.,   0.,   0.,   0., 572.,  35.,   4.,   8.,  12.,   3.]),\n",
       "  array([  0.,   0.,   0.,   0., 597.,  11.,   4.,   8.,   9.,   5.]),\n",
       "  array([  0.,   0.,   3.,  67., 251., 286.,  27.,   0.,   0.,   0.]),\n",
       "  array([  0.,   0.,   0.,  45., 317., 214.,  58.,   0.,   0.,   0.]),\n",
       "  array([  0.,   0.,   0., 101., 168., 365.,   0.,   0.,   0.,   0.]),\n",
       "  array([  0.,   1.,  10.,  61., 231., 309.,  22.,   0.,   0.,   0.]),\n",
       "  array([  0.,   0.,   0.,  63., 294., 242.,  35.,   0.,   0.,   0.]),\n",
       "  array([  0.,   0.,   0.,   3., 299., 311.,  15.,   1.,   2.,   3.]),\n",
       "  array([  0.,   8.,  12.,  42., 171., 401.,   0.,   0.,   0.,   0.]),\n",
       "  array([  0.,   0.,   0.,  44., 330., 209.,  47.,   4.,   0.,   0.]),\n",
       "  array([  0.,   0.,   0.,   0., 472.,  71.,  88.,   1.,   1.,   1.]),\n",
       "  array([  0.,   0.,   0.,  52., 295., 258.,  21.,   8.,   0.,   0.]),\n",
       "  array([  0.,   0.,   0.,  49., 300., 254.,  23.,   8.,   0.,   0.]),\n",
       "  array([  0.,   0.,   0.,  18., 444., 130.,  26.,  12.,   4.,   0.])],\n",
       " array([-1.75188632, -1.39464967, -1.03741301, -0.68017636, -0.3229397 ,\n",
       "         0.03429696,  0.39153361,  0.74877027,  1.10600692,  1.46324358,\n",
       "         1.82048023]),\n",
       " <a list of 19 Lists of Patches objects>)"
      ]
     },
     "execution_count": 19,
     "metadata": {},
     "output_type": "execute_result"
    },
    {
     "data": {
      "image/png": "[encoded data removed]",
      "text/plain": [
       "<Figure size 432x288 with 1 Axes>"
      ]
     },
     "metadata": {
      "needs_background": "light"
     },
     "output_type": "display_data"
    }
   ],
   "source": [
    "plt.hist(Xtest_norm)"
   ]
  },
  {
   "cell_type": "code",
   "execution_count": 14,
   "metadata": {},
   "outputs": [
    {
     "name": "stdout",
     "output_type": "stream",
     "text": [
      "Root Mean Square Error: 0.17761120833134697\n",
      "Score: 0.9684542586750788\n"
     ]
    }
   ],
   "source": [
    "# regressão logística pela biblioteca SkLearn com os dados normalizados\n",
    "logreg = LogisticRegression(max_iter=3500)\n",
    "logreg.fit(Xtrain_norm, ytrain)\n",
    "ypred_norm = logreg.predict(Xtest_norm)\n",
    "\n",
    "print(\"Root Mean Square Error:\",rmse(ytest,ypred_norm))\n",
    "print(\"Score:\",logreg.score(Xtest_norm,ytest))"
   ]
  },
  {
   "cell_type": "code",
   "execution_count": 20,
   "metadata": {},
   "outputs": [
    {
     "name": "stdout",
     "output_type": "stream",
     "text": [
      "[[289  12]\n",
      " [  8 325]]\n"
     ]
    }
   ],
   "source": [
    "# matriz de confusão para threshold = 0.5\n",
    "cmatrix = sk.confusion_matrix(ytest,ypred_norm)\n",
    "print(cmatrix)"
   ]
  },
  {
   "cell_type": "code",
   "execution_count": 21,
   "metadata": {},
   "outputs": [
    {
     "data": {
      "image/png": "[encoded data removed]",
      "text/plain": [
       "<Figure size 432x288 with 1 Axes>"
      ]
     },
     "metadata": {
      "needs_background": "light"
     },
     "output_type": "display_data"
    }
   ],
   "source": [
    "# curva ROC\n",
    "# fpr = falso positivo\n",
    "# tpr = verdadeiro positivo\n",
    "fpr, tpr, thresholds = roc_curve(ytest, logreg.predict_proba(Xtest_norm)[:,1])\n",
    "\n",
    "plt.xlim([0.0, 1.0])\n",
    "plt.ylim([0.0, 1.0])\n",
    "plt.xlabel('Thresholds')\n",
    "plt.ylabel('Rate')\n",
    "plt.plot(thresholds,fpr,label='Falso Positivo')\n",
    "plt.plot(thresholds,tpr,label = 'Verdadeiro Positivo')\n",
    "plt.legend(bbox_to_anchor=(1, 1), loc='upper left')\n",
    "plt.show()"
   ]
  },
  {
   "cell_type": "code",
   "execution_count": 22,
   "metadata": {
    "scrolled": true
   },
   "outputs": [
    {
     "data": {
      "image/png": "[encoded data removed]",
      "text/plain": [
       "<Figure size 432x288 with 1 Axes>"
      ]
     },
     "metadata": {
      "needs_background": "light"
     },
     "output_type": "display_data"
    }
   ],
   "source": [
    "plt.plot(fpr, tpr, label='Logistic Regression')\n",
    "plt.plot([0, 1], [0, 1],'r--')\n",
    "plt.xlim([0.0, 1.0])\n",
    "plt.ylim([0.0, 1.05])\n",
    "plt.xlabel('False Positive Rate')\n",
    "plt.ylabel('True Positive Rate')\n",
    "plt.title('Curva ROC')\n",
    "plt.legend(loc=\"lower right\")\n",
    "plt.show()"
   ]
  },
  {
   "cell_type": "code",
   "execution_count": 23,
   "metadata": {},
   "outputs": [
    {
     "name": "stdout",
     "output_type": "stream",
     "text": [
      "Best Threshold = 0.633901\n"
     ]
    }
   ],
   "source": [
    "# melhor valor para threshold a partir da média geométrica\n",
    "geo = np.sqrt(tpr * (1-fpr))\n",
    "index_geo = np.argmax(geo)\n",
    "print('Best Threshold = %f' % thresholds[index_geo])"
   ]
  },
  {
   "cell_type": "code",
   "execution_count": 24,
   "metadata": {},
   "outputs": [
    {
     "name": "stdout",
     "output_type": "stream",
     "text": [
      "Root Mean Square Error: 0.16374944313243622\n"
     ]
    }
   ],
   "source": [
    "# predição com o valor ótimo encontrado para threshold\n",
    "ypred1 = (logreg.predict_proba(Xtest)[:,1] >= thresholds[index_geo]).astype(int)\n",
    "\n",
    "print(\"Root Mean Square Error:\",rmse(ytest,ypred1))"
   ]
  },
  {
   "cell_type": "code",
   "execution_count": 30,
   "metadata": {},
   "outputs": [
    {
     "name": "stdout",
     "output_type": "stream",
     "text": [
      "[[299   2]\n",
      " [ 15 318]]\n"
     ]
    }
   ],
   "source": [
    "# matriz de confusão para o Best Threshold\n",
    "cmatrix1 = sk.confusion_matrix(ytest,ypred1)\n",
    "print(cmatrix1)"
   ]
  },
  {
   "cell_type": "markdown",
   "metadata": {},
   "source": [
    "# Atividade 2\n",
    "Classificação multi-classe na identificação de atividade humana usando dados de smartphones\n",
    "\n",
    "A base de dados contém 6 classes, 561 atributos, 7352 amostras de treino e 2947 amostras de teste."
   ]
  },
  {
   "cell_type": "code",
   "execution_count": 38,
   "metadata": {},
   "outputs": [],
   "source": [
    "from sklearn.multiclass import OneVsRestClassifier\n",
    "from sklearn.svm import SVC"
   ]
  },
  {
   "cell_type": "code",
   "execution_count": 32,
   "metadata": {},
   "outputs": [],
   "source": [
    "X_test = genfromtxt('X_test.txt')\n",
    "X_train = genfromtxt('X_train.txt')\n",
    "y_test = genfromtxt('y_test.txt')\n",
    "y_train = genfromtxt('y_train.txt')"
   ]
  },
  {
   "cell_type": "code",
   "execution_count": 46,
   "metadata": {},
   "outputs": [
    {
     "name": "stdout",
     "output_type": "stream",
     "text": [
      "[5. 5. 5. ... 2. 2. 1.]\n"
     ]
    }
   ],
   "source": [
    "# pela classificação one-vs-all temos\n",
    "clf = OneVsRestClassifier(SVC()).fit(X_train, y_train)\n",
    "y_pred = clf.predict(X_test)\n",
    "print(y_pred)"
   ]
  },
  {
   "cell_type": "code",
   "execution_count": 48,
   "metadata": {},
   "outputs": [
    {
     "name": "stdout",
     "output_type": "stream",
     "text": [
      "Root Mean Square Error: 0.2512270531534619\n",
      "[[490   4   2   0   0   0]\n",
      " [ 16 453   2   0   0   0]\n",
      " [  7  20 393   0   0   0]\n",
      " [  0   3   0 437  51   0]\n",
      " [  1   0   0  29 502   0]\n",
      " [  0   0   0   0   0 537]]\n"
     ]
    }
   ],
   "source": [
    "print(\"Root Mean Square Error:\",rmse(y_test,y_pred))\n",
    "\n",
    "# matriz de confusão para threshold default de 0.5\n",
    "cmatrix = sk.confusion_matrix(y_test,y_pred)\n",
    "print(cmatrix)"
   ]
  },
  {
   "cell_type": "code",
   "execution_count": null,
   "metadata": {},
   "outputs": [],
   "source": []
  },
  {
   "cell_type": "markdown",
   "metadata": {},
   "source": [
    "# Rascunhos"
   ]
  },
  {
   "cell_type": "code",
   "execution_count": 26,
   "metadata": {},
   "outputs": [
    {
     "name": "stdout",
     "output_type": "stream",
     "text": [
      "Root Mean Square Error: 0.17761120833134697\n",
      "Score: 0.9684542586750788\n"
     ]
    }
   ],
   "source": [
    "# regressão logística pela biblioteca SkLearn sem a normalização\n",
    "logreg = LogisticRegression(max_iter=3500)\n",
    "logreg.fit(Xtrain, ytrain)\n",
    "ypred = logreg.predict(Xtest)\n",
    "\n",
    "print(\"Root Mean Square Error:\",rmse(ytest,ypred))\n",
    "print(\"Score:\",logreg.score(Xtest,ytest))"
   ]
  },
  {
   "cell_type": "code",
   "execution_count": 27,
   "metadata": {},
   "outputs": [
    {
     "data": {
      "text/plain": [
       "Text(0.5, 1, 'Accuracy Score: 0.9685')"
      ]
     },
     "execution_count": 27,
     "metadata": {},
     "output_type": "execute_result"
    },
    {
     "data": {
      "image/png": "[encoded data removed]",
      "text/plain": [
       "<Figure size 648x648 with 2 Axes>"
      ]
     },
     "metadata": {
      "needs_background": "light"
     },
     "output_type": "display_data"
    }
   ],
   "source": [
    "\n",
    "plt.figure(figsize=(9,9))\n",
    "sns.heatmap(cmatrix1, annot=True, fmt=\".0f\", linewidths=.5, square = True, cmap = 'Blues_r');\n",
    "plt.ylabel('Actual label');\n",
    "plt.xlabel('Predicted label');\n",
    "all_sample_title = 'Accuracy Score: {:.4f}'.format(logreg.score(Xtest, ytest))\n",
    "plt.title(all_sample_title, size = 15)"
   ]
  }
 ],
 "metadata": {
  "kernelspec": {
   "display_name": "Python 3",
   "language": "python",
   "name": "python3"
  },
  "language_info": {
   "codemirror_mode": {
    "name": "ipython",
    "version": 3
   },
   "file_extension": ".py",
   "mimetype": "text/x-python",
   "name": "python",
   "nbconvert_exporter": "python",
   "pygments_lexer": "ipython3",
   "version": "3.7.6"
  }
 },
 "nbformat": 4,
 "nbformat_minor": 4
}
